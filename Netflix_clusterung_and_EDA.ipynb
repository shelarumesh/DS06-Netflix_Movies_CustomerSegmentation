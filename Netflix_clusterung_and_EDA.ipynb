{
  "nbformat": 4,
  "nbformat_minor": 0,
  "metadata": {
    "colab": {
      "private_outputs": true,
      "provenance": [],
      "gpuType": "T4",
      "authorship_tag": "ABX9TyPPbi/qQRcgNWYS1y9xiUtY",
      "include_colab_link": true
    },
    "kernelspec": {
      "name": "python3",
      "display_name": "Python 3"
    },
    "language_info": {
      "name": "python"
    },
    "accelerator": "GPU"
  },
  "cells": [
    {
      "cell_type": "markdown",
      "metadata": {
        "id": "view-in-github",
        "colab_type": "text"
      },
      "source": [
        "<a href=\"https://colab.research.google.com/github/shelarumesh/DA01_Hospitality_Analysis_codebasics/blob/main/Netflix_clusterung_and_EDA.ipynb\" target=\"_parent\"><img src=\"https://colab.research.google.com/assets/colab-badge.svg\" alt=\"Open In Colab\"/></a>"
      ]
    },
    {
      "cell_type": "markdown",
      "source": [
        "# Define the Problem Statement"
      ],
      "metadata": {
        "id": "gcH8LpccbycQ"
      }
    },
    {
      "cell_type": "markdown",
      "source": [
        "This dataset consists of tv shows and movies available on Netflix as of 2019. The dataset is collected from Flixable which is a third-party Netflix search engine. In 2018, they released an interesting report which shows that the number of TV shows on Netflix has nearly tripled since 2010. The streaming service’s number of movies has decreased by more than 2,000 titles since 2010, while its number of TV shows has nearly tripled. It will be interesting to explore what all other insights can be obtained from the same dataset.\n",
        "\n",
        "Integrating this dataset with other external datasets such as IMDB ratings, rotten tomatoes can also provide many interesting findings.\n",
        "\n",
        "In this project, you are required to do\n",
        "\n",
        "-nExploratory Data Analysis\n",
        "- Understanding what type content is available in different countries\n",
        "- If Netflix has been increasingly focusing on TV rather than movies in recent years.\n",
        "- Clustering similar content by matching text-based features"
      ],
      "metadata": {
        "id": "4pqmK9ymce1T"
      }
    },
    {
      "cell_type": "markdown",
      "source": [
        "# Data Collection"
      ],
      "metadata": {
        "id": "nK1oP833b0eI"
      }
    },
    {
      "cell_type": "markdown",
      "source": [
        "## Import Libraries"
      ],
      "metadata": {
        "id": "VRAivtIpc8Ee"
      }
    },
    {
      "cell_type": "code",
      "source": [
        "import pandas as pd\n",
        "import numpy as np\n",
        "import matplotlib.pyplot as plt\n",
        "import seaborn as sns\n",
        "from sklearn.preprocessing import OneHotEncoder, OrdinalEncoder, LabelEncoder\n",
        "from sklearn.preprocessing import StandardScaler, MinMaxScaler"
      ],
      "metadata": {
        "id": "ajeZbZWrb4NA"
      },
      "execution_count": null,
      "outputs": []
    },
    {
      "cell_type": "markdown",
      "source": [
        "## Data Set Loadinding"
      ],
      "metadata": {
        "id": "dIEElr4QdGrX"
      }
    },
    {
      "cell_type": "code",
      "source": [
        "path = '/content/sample_data/NETFLIX MOVIES AND TV SHOWS CLUSTERING.csv'\n",
        "df = pd.read_csv(path)\n",
        "df.head()"
      ],
      "metadata": {
        "id": "I0OsQJ7zdLlW"
      },
      "execution_count": null,
      "outputs": []
    },
    {
      "cell_type": "code",
      "source": [
        "df.info()"
      ],
      "metadata": {
        "id": "HaPe7QLUdLhL"
      },
      "execution_count": null,
      "outputs": []
    },
    {
      "cell_type": "code",
      "source": [
        "df.isnull().sum()"
      ],
      "metadata": {
        "id": "NQ1vQkKCeAU7"
      },
      "execution_count": null,
      "outputs": []
    },
    {
      "cell_type": "code",
      "source": [
        "df.shape"
      ],
      "metadata": {
        "id": "iiAsaciieDyV"
      },
      "execution_count": null,
      "outputs": []
    },
    {
      "cell_type": "markdown",
      "source": [
        "# Data Preprocessing"
      ],
      "metadata": {
        "id": "2oNDwqlRb4_X"
      }
    },
    {
      "cell_type": "markdown",
      "source": [
        "### 3.1 Missing Values and its solution"
      ],
      "metadata": {
        "id": "MQDxXGOseLsV"
      }
    },
    {
      "cell_type": "code",
      "source": [
        "# % of missing values in dataset\n",
        "df.isnull().sum()/len(df)*100"
      ],
      "metadata": {
        "id": "T507fuaIb9-V"
      },
      "execution_count": null,
      "outputs": []
    },
    {
      "cell_type": "code",
      "source": [
        "# In cast there are 9.22 % null values will fill with mode\n",
        "df['cast'].value_counts()\n",
        "df['cast'] = df['cast'].fillna(df['cast'].mode()[0])"
      ],
      "metadata": {
        "collapsed": true,
        "id": "vJ2fU3QSew5M"
      },
      "execution_count": null,
      "outputs": []
    },
    {
      "cell_type": "code",
      "source": [
        "df['director'].value_counts()\n",
        "df['director'] = df['director'].fillna(df['director'].mode()[0])"
      ],
      "metadata": {
        "id": "oEYCdyh8fEvW"
      },
      "execution_count": null,
      "outputs": []
    },
    {
      "cell_type": "code",
      "source": [
        "df['country'].value_counts()\n",
        "df['country'] = df['country'].fillna(df['country'].mode()[0])"
      ],
      "metadata": {
        "id": "gWwOgiYtfErY"
      },
      "execution_count": null,
      "outputs": []
    },
    {
      "cell_type": "code",
      "source": [
        "df['rating'].value_counts()\n",
        "df['rating'] = df['rating'].fillna(df['rating'].mode()[0])"
      ],
      "metadata": {
        "id": "ybeTzntgfEoJ"
      },
      "execution_count": null,
      "outputs": []
    },
    {
      "cell_type": "code",
      "source": [
        "df.head()"
      ],
      "metadata": {
        "id": "2wxOSuRJgojp"
      },
      "execution_count": null,
      "outputs": []
    },
    {
      "cell_type": "code",
      "source": [
        "df = df.dropna()\n",
        "df.shape"
      ],
      "metadata": {
        "id": "iqgxYqbVgExn"
      },
      "execution_count": null,
      "outputs": []
    },
    {
      "cell_type": "code",
      "source": [
        "df.isnull().sum()"
      ],
      "metadata": {
        "id": "8icMir5Zg2y7"
      },
      "execution_count": null,
      "outputs": []
    },
    {
      "cell_type": "code",
      "source": [
        "df = df.drop(columns=['title'])"
      ],
      "metadata": {
        "id": "m5Lw8e8Ai6Oo"
      },
      "execution_count": null,
      "outputs": []
    },
    {
      "cell_type": "markdown",
      "source": [
        "### 3.2 Handling Outliers"
      ],
      "metadata": {
        "id": "2JUZP_LshZ19"
      }
    },
    {
      "cell_type": "code",
      "source": [
        "df.describe()"
      ],
      "metadata": {
        "id": "4b-S3SX5he5c"
      },
      "execution_count": null,
      "outputs": []
    },
    {
      "cell_type": "code",
      "source": [
        "def Check_categorical_wrongData(dataframe):\n",
        "  cat = dataframe.select_dtypes(include=('object'))\n",
        "  for data in cat.columns:\n",
        "    #print(cat[data].value_colunts())\n",
        "    print(data , len(cat[data].unique()))"
      ],
      "metadata": {
        "id": "Q5SImbfciTEa"
      },
      "execution_count": null,
      "outputs": []
    },
    {
      "cell_type": "code",
      "source": [
        "Check_categorical_wrongData(df)"
      ],
      "metadata": {
        "id": "qYh7w6nUkXuj"
      },
      "execution_count": null,
      "outputs": []
    },
    {
      "cell_type": "markdown",
      "source": [
        "### Check Duplicates"
      ],
      "metadata": {
        "id": "mp7uFHkPlJk3"
      }
    },
    {
      "cell_type": "code",
      "source": [
        "df[df.duplicated()]"
      ],
      "metadata": {
        "id": "ogkHCLBChnwW"
      },
      "execution_count": null,
      "outputs": []
    },
    {
      "cell_type": "code",
      "source": [
        "df = df.drop_duplicates()"
      ],
      "metadata": {
        "id": "H8t-Mz5WhmLg"
      },
      "execution_count": null,
      "outputs": []
    },
    {
      "cell_type": "code",
      "source": [
        "df.shape"
      ],
      "metadata": {
        "id": "lzayaquXhmGo"
      },
      "execution_count": null,
      "outputs": []
    },
    {
      "cell_type": "markdown",
      "source": [
        "### Explore the date column"
      ],
      "metadata": {
        "id": "9DuAMwUzlX8Q"
      }
    },
    {
      "cell_type": "code",
      "source": [
        "df[['month', 'day', 'year']] = df['date_added'].str.split(' ', expand=True).iloc[:,:3]"
      ],
      "metadata": {
        "collapsed": true,
        "id": "_QrGSzsglbEE"
      },
      "execution_count": null,
      "outputs": []
    },
    {
      "cell_type": "code",
      "source": [
        "df = df.drop(columns=['date_added'])"
      ],
      "metadata": {
        "id": "CfX_JiWGoJX7"
      },
      "execution_count": null,
      "outputs": []
    },
    {
      "cell_type": "code",
      "source": [
        "df.head()"
      ],
      "metadata": {
        "id": "Rc_DV5JFla-m"
      },
      "execution_count": null,
      "outputs": []
    },
    {
      "cell_type": "markdown",
      "source": [
        "### Handle the duration column which contains TV and Movies data in minutes and seasons"
      ],
      "metadata": {
        "id": "eIGz_YcmplzC"
      }
    },
    {
      "cell_type": "code",
      "source": [
        "df[['time_and_count', 'duration_type']] = df['duration'].str.split(' ', expand=True)"
      ],
      "metadata": {
        "collapsed": true,
        "id": "JeOOJCOXp10M"
      },
      "execution_count": null,
      "outputs": []
    },
    {
      "cell_type": "code",
      "source": [
        "df = df.drop(columns=['duration'])"
      ],
      "metadata": {
        "id": "4XS1eUysp1xA"
      },
      "execution_count": null,
      "outputs": []
    },
    {
      "cell_type": "markdown",
      "source": [
        "# Exploratory Data Analysis (EDA)"
      ],
      "metadata": {
        "id": "o7a3eHyHcBMF"
      }
    },
    {
      "cell_type": "markdown",
      "source": [
        "### Chart 1 : Count of TV and movies"
      ],
      "metadata": {
        "id": "6amGHeQ8raf8"
      }
    },
    {
      "cell_type": "code",
      "source": [
        "count = df.groupby('type')[['director']].count()\n",
        "count"
      ],
      "metadata": {
        "id": "ygy79GNDsIbi"
      },
      "execution_count": null,
      "outputs": []
    },
    {
      "cell_type": "code",
      "source": [
        "count.index"
      ],
      "metadata": {
        "id": "i-KkPRXLsf2W"
      },
      "execution_count": null,
      "outputs": []
    },
    {
      "cell_type": "code",
      "source": [
        "y = count['director']\n",
        "y"
      ],
      "metadata": {
        "id": "OWkoLXmJcA_x"
      },
      "execution_count": null,
      "outputs": []
    },
    {
      "cell_type": "code",
      "source": [
        "sns.barplot(y)\n",
        "plt.ylabel('Number of movies or TV count')\n",
        "plt.title('Count of Movie and Tv show ')"
      ],
      "metadata": {
        "id": "WAcbiNa0r80g"
      },
      "execution_count": null,
      "outputs": []
    },
    {
      "cell_type": "markdown",
      "source": [
        "### Chart 2 : Top Director"
      ],
      "metadata": {
        "id": "BZU-pck0tEJB"
      }
    },
    {
      "cell_type": "code",
      "source": [
        "director = df.groupby('director')[['year', 'rating']].count()\n",
        "data = np.log(director.sort_values(by='year').tail(10)['year'])"
      ],
      "metadata": {
        "id": "NL_OnPZFtJK-"
      },
      "execution_count": null,
      "outputs": []
    },
    {
      "cell_type": "code",
      "source": [
        "sns.barplot(data)\n",
        "plt.ylabel('Number of movies or TV count')\n",
        "plt.title(\"Top 10 director\")\n",
        "plt.xticks(rotation=90)\n",
        "plt.show()"
      ],
      "metadata": {
        "id": "DSOlNeMythLg"
      },
      "execution_count": null,
      "outputs": []
    },
    {
      "cell_type": "markdown",
      "source": [
        "### Chart 3 : Top ration\n",
        "\n"
      ],
      "metadata": {
        "id": "MrwfmCv7vae0"
      }
    },
    {
      "cell_type": "code",
      "source": [
        "rating = df.groupby('rating')[['type', 'country']].count()\n",
        "y= rating.sort_values('type')"
      ],
      "metadata": {
        "id": "iQtRByxbvjgU"
      },
      "execution_count": null,
      "outputs": []
    },
    {
      "cell_type": "code",
      "source": [
        "sns.barplot(rating['country'])"
      ],
      "metadata": {
        "id": "y0UnWa4-wHtX"
      },
      "execution_count": null,
      "outputs": []
    },
    {
      "cell_type": "code",
      "source": [],
      "metadata": {
        "id": "o46rJhPiwHX_"
      },
      "execution_count": null,
      "outputs": []
    },
    {
      "cell_type": "markdown",
      "source": [
        "### Chart 4 :  Top 10 country"
      ],
      "metadata": {
        "id": "krw8C1CMvabV"
      }
    },
    {
      "cell_type": "code",
      "source": [
        "y = df.groupby('country')[['rating','type']].count().sort_values('rating').tail(10)\n",
        "y = np.log(y)\n",
        "plt.bar(y.index, y['type'])\n",
        "plt.title('Top 10 countries and movies count')\n",
        "plt.xticks(rotation=90)\n",
        "plt.show()"
      ],
      "metadata": {
        "id": "BAIN1aF9wRqp"
      },
      "execution_count": null,
      "outputs": []
    },
    {
      "cell_type": "markdown",
      "source": [
        "### Chart 5 :"
      ],
      "metadata": {
        "id": "ehKNiHj0vaYH"
      }
    },
    {
      "cell_type": "code",
      "source": [
        "sns.pairplot(df)"
      ],
      "metadata": {
        "id": "5BXQQX6kyqOX"
      },
      "execution_count": null,
      "outputs": []
    },
    {
      "cell_type": "markdown",
      "source": [
        "### Encoding"
      ],
      "metadata": {
        "id": "l7fNN5G812X0"
      }
    },
    {
      "cell_type": "code",
      "source": [
        "oe = OrdinalEncoder()\n",
        "ohe = OneHotEncoder()\n",
        "le = LabelEncoder()"
      ],
      "metadata": {
        "collapsed": true,
        "id": "xf2q5xzK16kO"
      },
      "execution_count": null,
      "outputs": []
    },
    {
      "cell_type": "code",
      "source": [
        "df['type'] = le.fit_transform(df['type'])\n",
        "df['director'] = le.fit_transform(df['director'])\n",
        "df['country'] = le.fit_transform(df['country'])\n",
        "df['description'] = le.fit_transform(df['description'])\n",
        "df['duration_type'] = le.fit_transform(df['duration_type'])\n",
        "df['listed_in'] = le.fit_transform(df['listed_in'])\n",
        "df['cast'] = le.fit_transform(df['cast'])"
      ],
      "metadata": {
        "id": "3HnUCkej31Ta"
      },
      "execution_count": null,
      "outputs": []
    },
    {
      "cell_type": "code",
      "source": [
        "df['month'] = oe.fit_transform(df[['month']])\n",
        "df['rating'] = oe.fit_transform(df[['rating']])"
      ],
      "metadata": {
        "id": "GCd0ns0h4hoz"
      },
      "execution_count": null,
      "outputs": []
    },
    {
      "cell_type": "code",
      "source": [
        "df.head()"
      ],
      "metadata": {
        "id": "mP4llW3a5guv"
      },
      "execution_count": null,
      "outputs": []
    },
    {
      "cell_type": "code",
      "source": [
        "\n",
        "df['time_and_count'] = df['time_and_count'].astype('float')"
      ],
      "metadata": {
        "id": "6sSssz0Z3cZ6"
      },
      "execution_count": null,
      "outputs": []
    },
    {
      "cell_type": "code",
      "source": [
        "df['day'] = df['day'].str.replace(',','')"
      ],
      "metadata": {
        "id": "VDayA07W-0hN"
      },
      "execution_count": null,
      "outputs": []
    },
    {
      "cell_type": "code",
      "source": [
        "df['day'].unique()"
      ],
      "metadata": {
        "id": "EB9Xbma4BW9H"
      },
      "execution_count": null,
      "outputs": []
    },
    {
      "cell_type": "code",
      "source": [
        "df = df[df['day']!='December']\n",
        "df = df[df['day']!='January']\n",
        "df = df[df['day']!='August']\n",
        "df = df[df['day']!='July']\n",
        "df = df[df['day']!='May']\n",
        "df = df[df['day']!='November']\n",
        "df = df[df['day']!='March']\n",
        "df = df[df['day']!='October']\n",
        "df = df[df['day']!='April']\n",
        "df = df[df['day']!='February']\n",
        "df = df[df['day']!='September']\n",
        "df = df[df['day']!='June']"
      ],
      "metadata": {
        "id": "nJnEmClYA5vM"
      },
      "execution_count": null,
      "outputs": []
    },
    {
      "cell_type": "code",
      "source": [
        "df['day'].value_counts()"
      ],
      "metadata": {
        "id": "Kl098x0g_U0K"
      },
      "execution_count": null,
      "outputs": []
    },
    {
      "cell_type": "code",
      "source": [
        "#df['day'] = df['day'].astype('int64')\n",
        "#df['year'] = df['year'].astype('int')\n",
        "df['day'] = pd.to_numeric(df['day'])\n",
        "df['year'] = pd.to_numeric(df['year'])"
      ],
      "metadata": {
        "id": "RWNLScan-ge3"
      },
      "execution_count": null,
      "outputs": []
    },
    {
      "cell_type": "code",
      "source": [
        "df.info()"
      ],
      "metadata": {
        "id": "bS1q5DbZ6Xga"
      },
      "execution_count": null,
      "outputs": []
    },
    {
      "cell_type": "markdown",
      "source": [
        "### Chart 7 : distibution"
      ],
      "metadata": {
        "id": "MtJxABE37F0r"
      }
    },
    {
      "cell_type": "code",
      "source": [
        "sns.histplot(df['day'])\n",
        "plt.xticks(np.linspace(0,31,4))\n",
        "plt.show()"
      ],
      "metadata": {
        "id": "lu7IJeAS7MT7"
      },
      "execution_count": null,
      "outputs": []
    },
    {
      "cell_type": "code",
      "source": [
        "sns.histplot(df['time_and_count'])\n",
        "plt.xticks(np.linspace(0,1,4))\n",
        "plt.show()"
      ],
      "metadata": {
        "id": "A5yxogNH8Ppp"
      },
      "execution_count": null,
      "outputs": []
    },
    {
      "cell_type": "code",
      "source": [
        "df.columns"
      ],
      "metadata": {
        "id": "1SToLSOc8VNU"
      },
      "execution_count": null,
      "outputs": []
    },
    {
      "cell_type": "markdown",
      "source": [
        "### Cluster technique and target calculation"
      ],
      "metadata": {
        "id": "vXWpi3JtEBJT"
      }
    },
    {
      "cell_type": "markdown",
      "source": [
        "Base on show id we will segment this data in foollowing\n",
        "- count of movies per year\n",
        "- time and count sum\n",
        "- countries"
      ],
      "metadata": {
        "id": "-XaKnzGlukZZ"
      }
    },
    {
      "cell_type": "code",
      "source": [
        "df.head()"
      ],
      "metadata": {
        "id": "fKJoXtY_uehE"
      },
      "execution_count": null,
      "outputs": []
    },
    {
      "cell_type": "code",
      "source": [
        "df.year.value_counts()"
      ],
      "metadata": {
        "id": "XEgCEzmcEKLg"
      },
      "execution_count": null,
      "outputs": []
    },
    {
      "cell_type": "code",
      "source": [
        "new_df = df.groupby('show_id').agg({'year' : lambda x : x.mode(),'type': lambda x: x.mode(),\n",
        "                                    'rating': lambda x: x.max(), 'release_year': lambda x: (2024-x)\n",
        "                                    , 'time_and_count': lambda x: x.sum(),'country': lambda x: x.mode() })"
      ],
      "metadata": {
        "id": "_cJRcI5rEJ-u"
      },
      "execution_count": null,
      "outputs": []
    },
    {
      "cell_type": "code",
      "source": [
        "new_df.head()"
      ],
      "metadata": {
        "id": "hxIe49IlEJ3K"
      },
      "execution_count": null,
      "outputs": []
    },
    {
      "cell_type": "markdown",
      "source": [
        "# Model Selection, Training & Evaluation"
      ],
      "metadata": {
        "id": "zI6RF8XPcDAN"
      }
    },
    {
      "cell_type": "code",
      "source": [
        "X=new_df"
      ],
      "metadata": {
        "id": "34Id5vOmcFLq"
      },
      "execution_count": null,
      "outputs": []
    },
    {
      "cell_type": "code",
      "source": [
        "# elbow method to find out the best k\n",
        "from yellowbrick.cluster import KElbowVisualizer\n",
        "import matplotlib.pyplot as plt\n",
        "from sklearn.cluster import KMeans\n",
        "SSE = {}\n",
        "for k in range(1,15):\n",
        "  km = KMeans(n_clusters = k, init = 'k-means++', max_iter = 1000)\n",
        "  km = km.fit(X)\n",
        "  SSE[k] = km.inertia_\n",
        "\n",
        "# plot the graph for SSE and number of clusters\n",
        "visualizer = KElbowVisualizer(km, k=(1,15), metric='distortion', timings=False)\n",
        "visualizer.fit(X)\n",
        "visualizer.poof()\n",
        "plt.show()"
      ],
      "metadata": {
        "id": "zDgynteh9scf"
      },
      "execution_count": null,
      "outputs": []
    },
    {
      "cell_type": "code",
      "source": [
        "# Assuming X is your data array\n",
        "kmeans = KMeans(n_clusters=3)\n",
        "kmeans.fit(X)\n",
        "y_km = kmeans.predict(X)"
      ],
      "metadata": {
        "id": "UjpI64ySCI_m"
      },
      "execution_count": null,
      "outputs": []
    },
    {
      "cell_type": "code",
      "source": [
        "# Plot the clusters\n",
        "plt.figure(figsize=(10, 6))\n",
        "plt.title('Customer Segmentation based on Recency and Frequency')\n",
        "plt.scatter(X['time_and_count'], X['country'], c=y_km, s=50, cmap='Set1', label='Clusters')\n",
        "\n",
        "# Plot and annotate the centers\n",
        "centers = kmeans.cluster_centers_\n",
        "plt.scatter(centers[:,0], centers[:,1], c='black', s=200, alpha=0.5, marker='x')\n",
        "#for i, center in enumerate(centers):\n",
        "#    plt.annotate(f'Cluster {i}', (center[0], center[1]), textcoords=\"offset points\", xytext=(0,10), ha='center')\n",
        "plt.xticks([0,200,500,1000])\n",
        "plt.show()"
      ],
      "metadata": {
        "id": "mgrDbnTV5H0x"
      },
      "execution_count": null,
      "outputs": []
    },
    {
      "cell_type": "markdown",
      "source": [
        "# Conclusion"
      ],
      "metadata": {
        "id": "X1D0ipKZ6S9j"
      }
    },
    {
      "cell_type": "markdown",
      "source": [
        "This Dataset are divide into three cluster\n",
        "\n",
        "- Cluster 0 : Represent the oldest movie and TV show. cluster size is less mean less number of movies release than other cluster\n",
        "- Cluster 1 : Represent the middle year of relies movie and TV show\n",
        "- Cluster 2 : Represent the newly relies movie and TV show, cluster size is large means count of number of movies release\n",
        " is higher than other cluster"
      ],
      "metadata": {
        "id": "q_t_Y-2o6Vmt"
      }
    }
  ]
}